{
 "cells": [
  {
   "cell_type": "code",
   "execution_count": 85,
   "id": "9fff6476",
   "metadata": {},
   "outputs": [],
   "source": [
    "import numpy as np\n",
    "import pandas as pd\n",
    "from sklearn.model_selection import train_test_split\n",
    "from sklearn.metrics import mean_squared_error\n",
    "from sklearn.preprocessing import MinMaxScaler\n",
    "\n",
    "df = pd.read_csv('data/swedish_insurance.csv')\n",
    "x_train, x_test, y_train, y_test = train_test_split(df['X'], df['Y'], test_size=0.4, random_state=3)"
   ]
  },
  {
   "attachments": {
    "image.png": {
     "image/png": "[encoded data removed]"
    }
   },
   "cell_type": "markdown",
   "id": "fa2f7641",
   "metadata": {},
   "source": [
    "Estimate parameters for simple linear regression using <br>\n",
    "![image.png](attachment:image.png)"
   ]
  },
  {
   "cell_type": "code",
   "execution_count": 86,
   "id": "bec9fc62",
   "metadata": {},
   "outputs": [],
   "source": [
    "def simple_lr_coefficients(data_x, data_y):\n",
    "    mean_x = np.mean(data_x)\n",
    "    mean_y = np.mean(data_y)\n",
    "    cov = np.cov(data_x, data_y)[0][1]\n",
    "    var_x = np.var(data_x)\n",
    "    \n",
    "    b1 = cov / var_x\n",
    "    b0 = mean_y - b1 * mean_x\n",
    "    return (b0, b1)"
   ]
  },
  {
   "cell_type": "code",
   "execution_count": 87,
   "id": "ca1defad",
   "metadata": {},
   "outputs": [],
   "source": [
    "def simple_lg_regression(x_train, x_test, y_train, y_test):\n",
    "    predicted = list()\n",
    "    b0, b1 = simple_lr_coefficients(x_train, y_train)\n",
    "    for x in x_test:\n",
    "        predicted.append(b0 + b1 * x)\n",
    "    return predicted"
   ]
  },
  {
   "cell_type": "code",
   "execution_count": 88,
   "id": "e16ede9d",
   "metadata": {},
   "outputs": [],
   "source": [
    "predicted = simple_lg_regression(x_train, x_test, y_train, y_test)"
   ]
  },
  {
   "cell_type": "code",
   "execution_count": 89,
   "id": "4d38c994",
   "metadata": {},
   "outputs": [
    {
     "data": {
      "text/plain": [
       "37.930195676295945"
      ]
     },
     "execution_count": 89,
     "metadata": {},
     "output_type": "execute_result"
    }
   ],
   "source": [
    "mean_squared_error(y_test, predicted) ** 0.5"
   ]
  },
  {
   "cell_type": "code",
   "execution_count": 90,
   "id": "04bc02fe",
   "metadata": {},
   "outputs": [],
   "source": [
    "data = np.loadtxt('data/winequality-white.csv', delimiter=\";\", skiprows=1)\n",
    "mmscaler = MinMaxScaler()\n",
    "data = mmscaler.fit_transform(data)\n",
    "x_train, x_test, y_train, y_test = train_test_split(data[:, :-1], data[:, -1], test_size=0.3)"
   ]
  },
  {
   "cell_type": "code",
   "execution_count": 92,
   "id": "c3f4cc38",
   "metadata": {},
   "outputs": [],
   "source": [
    "def predict(x, coeff):\n",
    "    predicted = coeff[0]\n",
    "    for i in range(len(x)):\n",
    "        predicted += coeff[i + 1] * x[i]\n",
    "    return predicted"
   ]
  },
  {
   "cell_type": "code",
   "execution_count": 93,
   "id": "6e0e224d",
   "metadata": {},
   "outputs": [],
   "source": [
    "def sgd_coefficients(x_train, y_train, alpha, epochs):\n",
    "    coef = [0.0 for i in range(len(x_train[0]) + 1)]\n",
    "    for epoch in range(epochs):\n",
    "        sum_error = 0\n",
    "        for i, x in enumerate(x_train):\n",
    "            yhat = predict(x, coef)\n",
    "            error = yhat - y_train[i]\n",
    "            sum_error += error ** 2 \n",
    "            coef[0] = coef[0] - alpha * error\n",
    "            for j in range(len(x)):\n",
    "                coef[j + 1] = coef[j + 1] - alpha * error * x[j]\n",
    "        print(f'epoch={epoch}, alpha={alpha}, error={sum_error}')\n",
    "    return coef"
   ]
  },
  {
   "cell_type": "code",
   "execution_count": 94,
   "id": "c9941dda",
   "metadata": {},
   "outputs": [
    {
     "name": "stdout",
     "output_type": "stream",
     "text": [
      "epoch=0, alpha=0.001, error=132.50482873248578\n",
      "epoch=1, alpha=0.001, error=66.29187174375613\n",
      "epoch=2, alpha=0.001, error=64.6681732854041\n",
      "epoch=3, alpha=0.001, error=63.40020970323859\n",
      "epoch=4, alpha=0.001, error=62.39876953680094\n",
      "epoch=5, alpha=0.001, error=61.5959155301054\n",
      "epoch=6, alpha=0.001, error=60.94184735629663\n",
      "epoch=7, alpha=0.001, error=60.40001204569825\n",
      "epoch=8, alpha=0.001, error=59.94353108663898\n",
      "epoch=9, alpha=0.001, error=59.55259445884896\n",
      "epoch=10, alpha=0.001, error=59.21255968357969\n",
      "epoch=11, alpha=0.001, error=58.91256492927978\n",
      "epoch=12, alpha=0.001, error=58.64451695445693\n",
      "epoch=13, alpha=0.001, error=58.40235239012671\n",
      "epoch=14, alpha=0.001, error=58.18149836307939\n",
      "epoch=15, alpha=0.001, error=57.978478508286\n",
      "epoch=16, alpha=0.001, error=57.79062503359075\n",
      "epoch=17, alpha=0.001, error=57.61586815450624\n",
      "epoch=18, alpha=0.001, error=57.45258198469968\n",
      "epoch=19, alpha=0.001, error=57.29947163087002\n",
      "epoch=20, alpha=0.001, error=57.1554903695919\n",
      "epoch=21, alpha=0.001, error=57.01977879401214\n",
      "epoch=22, alpha=0.001, error=56.89162001319307\n",
      "epoch=23, alpha=0.001, error=56.7704065872749\n",
      "epoch=24, alpha=0.001, error=56.65561604865118\n",
      "epoch=25, alpha=0.001, error=56.54679271033615\n",
      "epoch=26, alpha=0.001, error=56.44353408334295\n",
      "epoch=27, alpha=0.001, error=56.345480677549354\n",
      "epoch=28, alpha=0.001, error=56.25230829070919\n",
      "epoch=29, alpha=0.001, error=56.16372213115359\n",
      "epoch=30, alpha=0.001, error=56.07945229549309\n",
      "epoch=31, alpha=0.001, error=55.99925025090147\n",
      "epoch=32, alpha=0.001, error=55.922886065210406\n",
      "epoch=33, alpha=0.001, error=55.85014619642367\n",
      "epoch=34, alpha=0.001, error=55.78083170322256\n",
      "epoch=35, alpha=0.001, error=55.71475677453201\n",
      "epoch=36, alpha=0.001, error=55.65174750294073\n",
      "epoch=37, alpha=0.001, error=55.591640846296734\n",
      "epoch=38, alpha=0.001, error=55.53428373612607\n",
      "epoch=39, alpha=0.001, error=55.47953230202168\n",
      "epoch=40, alpha=0.001, error=55.42725118886304\n",
      "epoch=41, alpha=0.001, error=55.37731294940264\n",
      "epoch=42, alpha=0.001, error=55.32959749893671\n",
      "epoch=43, alpha=0.001, error=55.28399162187894\n",
      "epoch=44, alpha=0.001, error=55.240388522342904\n",
      "epoch=45, alpha=0.001, error=55.19868741255156\n",
      "epoch=46, alpha=0.001, error=55.15879313417404\n",
      "epoch=47, alpha=0.001, error=55.12061580864244\n",
      "epoch=48, alpha=0.001, error=55.08407051324411\n",
      "epoch=49, alpha=0.001, error=55.04907698032738\n"
     ]
    }
   ],
   "source": [
    "sgd_coef = sgd_coefficients(x_train, y_train, 0.001, 50)"
   ]
  },
  {
   "cell_type": "code",
   "execution_count": 95,
   "id": "f38f2b26",
   "metadata": {},
   "outputs": [],
   "source": [
    "y_predicted = [predict(x, sgd_coef) for x in x_test]"
   ]
  },
  {
   "cell_type": "code",
   "execution_count": 96,
   "id": "e7d32867",
   "metadata": {},
   "outputs": [
    {
     "data": {
      "text/plain": [
       "0.12726076938186448"
      ]
     },
     "execution_count": 96,
     "metadata": {},
     "output_type": "execute_result"
    }
   ],
   "source": [
    "np.sqrt(mean_squared_error(y_test, y_predicted))"
   ]
  }
 ],
 "metadata": {
  "kernelspec": {
   "display_name": "Python 3 (ipykernel)",
   "language": "python",
   "name": "python3"
  },
  "language_info": {
   "codemirror_mode": {
    "name": "ipython",
    "version": 3
   },
   "file_extension": ".py",
   "mimetype": "text/x-python",
   "name": "python",
   "nbconvert_exporter": "python",
   "pygments_lexer": "ipython3",
   "version": "3.8.8"
  }
 },
 "nbformat": 4,
 "nbformat_minor": 5
}
